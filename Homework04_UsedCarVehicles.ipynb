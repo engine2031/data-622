{
 "cells": [
  {
   "cell_type": "markdown",
   "metadata": {},
   "source": [
    "# Used Cars Predictions\n",
    "### Data 622 Spring 2024\n",
    "### Euclides Rodriguez\n",
    "\n",
    "## Libraries"
   ]
  },
  {
   "cell_type": "code",
   "execution_count": 68,
   "metadata": {},
   "outputs": [],
   "source": [
    "import pandas as pd\n",
    "import numpy as np\n",
    "import warnings\n",
    "import seaborn as sns\n",
    "import matplotlib.pyplot as plt\n",
    "\n",
    "from sklearn.metrics import mean_squared_error, r2_score\n",
    "from sklearn.model_selection import train_test_split \n",
    "from sklearn.preprocessing import LabelEncoder\n",
    "from sklearn.preprocessing import StandardScaler\n",
    "from sklearn import linear_model\n",
    "\n",
    "import xgboost as xgb\n",
    "\n",
    "import tensorflow as tf\n",
    "from tensorflow.keras import Sequential\n",
    "from tensorflow.keras.layers import Dense\n",
    "from tensorflow.keras.optimizers import Adam\n",
    "from tensorflow.keras import backend as K\n",
    "\n",
    "warnings.filterwarnings('ignore')"
   ]
  },
  {
   "cell_type": "markdown",
   "metadata": {},
   "source": [
    "## Importing Data"
   ]
  },
  {
   "cell_type": "code",
   "execution_count": 2,
   "metadata": {},
   "outputs": [],
   "source": [
    "df = pd.read_csv(\"https://raw.githubusercontent.com/engine2031/Data-Sets/main/car%20details%20v4.csv\", encoding='unicode_escape')"
   ]
  },
  {
   "cell_type": "code",
   "execution_count": 3,
   "metadata": {},
   "outputs": [
    {
     "data": {
      "text/html": [
       "<div>\n",
       "<style scoped>\n",
       "    .dataframe tbody tr th:only-of-type {\n",
       "        vertical-align: middle;\n",
       "    }\n",
       "\n",
       "    .dataframe tbody tr th {\n",
       "        vertical-align: top;\n",
       "    }\n",
       "\n",
       "    .dataframe thead th {\n",
       "        text-align: right;\n",
       "    }\n",
       "</style>\n",
       "<table border=\"1\" class=\"dataframe\">\n",
       "  <thead>\n",
       "    <tr style=\"text-align: right;\">\n",
       "      <th></th>\n",
       "      <th>Make</th>\n",
       "      <th>Model</th>\n",
       "      <th>Price</th>\n",
       "      <th>Year</th>\n",
       "      <th>Kilometer</th>\n",
       "      <th>Fuel Type</th>\n",
       "      <th>Transmission</th>\n",
       "      <th>Location</th>\n",
       "      <th>Color</th>\n",
       "      <th>Owner</th>\n",
       "      <th>Seller Type</th>\n",
       "      <th>Engine</th>\n",
       "      <th>Max Power</th>\n",
       "      <th>Max Torque</th>\n",
       "      <th>Drivetrain</th>\n",
       "      <th>Length</th>\n",
       "      <th>Width</th>\n",
       "      <th>Height</th>\n",
       "      <th>Seating Capacity</th>\n",
       "      <th>Fuel Tank Capacity</th>\n",
       "    </tr>\n",
       "  </thead>\n",
       "  <tbody>\n",
       "    <tr>\n",
       "      <th>0</th>\n",
       "      <td>Honda</td>\n",
       "      <td>Amaze 1.2 VX i-VTEC</td>\n",
       "      <td>505000</td>\n",
       "      <td>2017</td>\n",
       "      <td>87150</td>\n",
       "      <td>Petrol</td>\n",
       "      <td>Manual</td>\n",
       "      <td>Pune</td>\n",
       "      <td>Grey</td>\n",
       "      <td>First</td>\n",
       "      <td>Corporate</td>\n",
       "      <td>1198 cc</td>\n",
       "      <td>87 bhp @ 6000 rpm</td>\n",
       "      <td>109 Nm @ 4500 rpm</td>\n",
       "      <td>FWD</td>\n",
       "      <td>3990.0</td>\n",
       "      <td>1680.0</td>\n",
       "      <td>1505.0</td>\n",
       "      <td>5.0</td>\n",
       "      <td>35.0</td>\n",
       "    </tr>\n",
       "    <tr>\n",
       "      <th>1</th>\n",
       "      <td>Maruti Suzuki</td>\n",
       "      <td>Swift DZire VDI</td>\n",
       "      <td>450000</td>\n",
       "      <td>2014</td>\n",
       "      <td>75000</td>\n",
       "      <td>Diesel</td>\n",
       "      <td>Manual</td>\n",
       "      <td>Ludhiana</td>\n",
       "      <td>White</td>\n",
       "      <td>Second</td>\n",
       "      <td>Individual</td>\n",
       "      <td>1248 cc</td>\n",
       "      <td>74 bhp @ 4000 rpm</td>\n",
       "      <td>190 Nm @ 2000 rpm</td>\n",
       "      <td>FWD</td>\n",
       "      <td>3995.0</td>\n",
       "      <td>1695.0</td>\n",
       "      <td>1555.0</td>\n",
       "      <td>5.0</td>\n",
       "      <td>42.0</td>\n",
       "    </tr>\n",
       "    <tr>\n",
       "      <th>2</th>\n",
       "      <td>Hyundai</td>\n",
       "      <td>i10 Magna 1.2 Kappa2</td>\n",
       "      <td>220000</td>\n",
       "      <td>2011</td>\n",
       "      <td>67000</td>\n",
       "      <td>Petrol</td>\n",
       "      <td>Manual</td>\n",
       "      <td>Lucknow</td>\n",
       "      <td>Maroon</td>\n",
       "      <td>First</td>\n",
       "      <td>Individual</td>\n",
       "      <td>1197 cc</td>\n",
       "      <td>79 bhp @ 6000 rpm</td>\n",
       "      <td>112.7619 Nm @ 4000 rpm</td>\n",
       "      <td>FWD</td>\n",
       "      <td>3585.0</td>\n",
       "      <td>1595.0</td>\n",
       "      <td>1550.0</td>\n",
       "      <td>5.0</td>\n",
       "      <td>35.0</td>\n",
       "    </tr>\n",
       "    <tr>\n",
       "      <th>3</th>\n",
       "      <td>Toyota</td>\n",
       "      <td>Glanza G</td>\n",
       "      <td>799000</td>\n",
       "      <td>2019</td>\n",
       "      <td>37500</td>\n",
       "      <td>Petrol</td>\n",
       "      <td>Manual</td>\n",
       "      <td>Mangalore</td>\n",
       "      <td>Red</td>\n",
       "      <td>First</td>\n",
       "      <td>Individual</td>\n",
       "      <td>1197 cc</td>\n",
       "      <td>82 bhp @ 6000 rpm</td>\n",
       "      <td>113 Nm @ 4200 rpm</td>\n",
       "      <td>FWD</td>\n",
       "      <td>3995.0</td>\n",
       "      <td>1745.0</td>\n",
       "      <td>1510.0</td>\n",
       "      <td>5.0</td>\n",
       "      <td>37.0</td>\n",
       "    </tr>\n",
       "    <tr>\n",
       "      <th>4</th>\n",
       "      <td>Toyota</td>\n",
       "      <td>Innova 2.4 VX 7 STR [2016-2020]</td>\n",
       "      <td>1950000</td>\n",
       "      <td>2018</td>\n",
       "      <td>69000</td>\n",
       "      <td>Diesel</td>\n",
       "      <td>Manual</td>\n",
       "      <td>Mumbai</td>\n",
       "      <td>Grey</td>\n",
       "      <td>First</td>\n",
       "      <td>Individual</td>\n",
       "      <td>2393 cc</td>\n",
       "      <td>148 bhp @ 3400 rpm</td>\n",
       "      <td>343 Nm @ 1400 rpm</td>\n",
       "      <td>RWD</td>\n",
       "      <td>4735.0</td>\n",
       "      <td>1830.0</td>\n",
       "      <td>1795.0</td>\n",
       "      <td>7.0</td>\n",
       "      <td>55.0</td>\n",
       "    </tr>\n",
       "  </tbody>\n",
       "</table>\n",
       "</div>"
      ],
      "text/plain": [
       "            Make                            Model    Price  Year  Kilometer  \\\n",
       "0          Honda              Amaze 1.2 VX i-VTEC   505000  2017      87150   \n",
       "1  Maruti Suzuki                  Swift DZire VDI   450000  2014      75000   \n",
       "2        Hyundai             i10 Magna 1.2 Kappa2   220000  2011      67000   \n",
       "3         Toyota                         Glanza G   799000  2019      37500   \n",
       "4         Toyota  Innova 2.4 VX 7 STR [2016-2020]  1950000  2018      69000   \n",
       "\n",
       "  Fuel Type Transmission   Location   Color   Owner Seller Type   Engine  \\\n",
       "0    Petrol       Manual       Pune    Grey   First   Corporate  1198 cc   \n",
       "1    Diesel       Manual   Ludhiana   White  Second  Individual  1248 cc   \n",
       "2    Petrol       Manual    Lucknow  Maroon   First  Individual  1197 cc   \n",
       "3    Petrol       Manual  Mangalore     Red   First  Individual  1197 cc   \n",
       "4    Diesel       Manual     Mumbai    Grey   First  Individual  2393 cc   \n",
       "\n",
       "            Max Power              Max Torque Drivetrain  Length   Width  \\\n",
       "0   87 bhp @ 6000 rpm       109 Nm @ 4500 rpm        FWD  3990.0  1680.0   \n",
       "1   74 bhp @ 4000 rpm       190 Nm @ 2000 rpm        FWD  3995.0  1695.0   \n",
       "2   79 bhp @ 6000 rpm  112.7619 Nm @ 4000 rpm        FWD  3585.0  1595.0   \n",
       "3   82 bhp @ 6000 rpm       113 Nm @ 4200 rpm        FWD  3995.0  1745.0   \n",
       "4  148 bhp @ 3400 rpm       343 Nm @ 1400 rpm        RWD  4735.0  1830.0   \n",
       "\n",
       "   Height  Seating Capacity  Fuel Tank Capacity  \n",
       "0  1505.0               5.0                35.0  \n",
       "1  1555.0               5.0                42.0  \n",
       "2  1550.0               5.0                35.0  \n",
       "3  1510.0               5.0                37.0  \n",
       "4  1795.0               7.0                55.0  "
      ]
     },
     "execution_count": 3,
     "metadata": {},
     "output_type": "execute_result"
    }
   ],
   "source": [
    "df.head()"
   ]
  },
  {
   "cell_type": "code",
   "execution_count": 4,
   "metadata": {},
   "outputs": [
    {
     "name": "stdout",
     "output_type": "stream",
     "text": [
      "<class 'pandas.core.frame.DataFrame'>\n",
      "RangeIndex: 2059 entries, 0 to 2058\n",
      "Data columns (total 20 columns):\n",
      " #   Column              Non-Null Count  Dtype  \n",
      "---  ------              --------------  -----  \n",
      " 0   Make                2059 non-null   object \n",
      " 1   Model               2059 non-null   object \n",
      " 2   Price               2059 non-null   int64  \n",
      " 3   Year                2059 non-null   int64  \n",
      " 4   Kilometer           2059 non-null   int64  \n",
      " 5   Fuel Type           2059 non-null   object \n",
      " 6   Transmission        2059 non-null   object \n",
      " 7   Location            2059 non-null   object \n",
      " 8   Color               2059 non-null   object \n",
      " 9   Owner               2059 non-null   object \n",
      " 10  Seller Type         2059 non-null   object \n",
      " 11  Engine              1979 non-null   object \n",
      " 12  Max Power           1979 non-null   object \n",
      " 13  Max Torque          1979 non-null   object \n",
      " 14  Drivetrain          1923 non-null   object \n",
      " 15  Length              1995 non-null   float64\n",
      " 16  Width               1995 non-null   float64\n",
      " 17  Height              1995 non-null   float64\n",
      " 18  Seating Capacity    1995 non-null   float64\n",
      " 19  Fuel Tank Capacity  1946 non-null   float64\n",
      "dtypes: float64(5), int64(3), object(12)\n",
      "memory usage: 321.8+ KB\n"
     ]
    }
   ],
   "source": [
    "df.info()"
   ]
  },
  {
   "cell_type": "code",
   "execution_count": 5,
   "metadata": {},
   "outputs": [],
   "source": [
    "#Data prepration. String clean up.  Converting object columns to numerial.  \n",
    "df[['Max Power_hp', 'Max Power_rpm']] = df['Max Power'].str.split('@', n=1, expand=True)\n",
    "df[['Max Torque_nm', 'Max Torque_rpm']] = df['Max Torque'].str.split('@', n=1, expand=True)\n",
    "\n",
    "df['Max Power_hp'] = df['Max Power_hp'].str.replace('bhp', '')\n",
    "df['Max Power_rpm'] = df['Max Power_rpm'].str.replace('rpm', '')\n",
    "\n",
    "df['Max Torque_nm'] = df['Max Torque_nm'].str.replace('Nm', '')\n",
    "df['Max Torque_rpm'] = df['Max Torque_rpm'].str.replace('rpm', '')\n",
    "\n",
    "df['Engine'] = df['Engine'].str.replace('cc', '')\n",
    "\n",
    "#convert_num = ['Engine','Max Torque_rpm', 'Max Torque_nm','Max Power_hp', 'Max Power_rpm']\n",
    "\n",
    "#for i in convert_num:  \n",
    "    #df[i] = pd.to_numeric(df[i])"
   ]
  },
  {
   "cell_type": "code",
   "execution_count": 6,
   "metadata": {},
   "outputs": [],
   "source": [
    "df = df.drop(['Max Power', 'Max Torque'], axis=1)"
   ]
  },
  {
   "cell_type": "code",
   "execution_count": 7,
   "metadata": {},
   "outputs": [],
   "source": [
    "\n",
    "\n",
    "convert_num = ['Engine','Max Torque_rpm', 'Max Torque_nm','Max Power_hp', 'Max Power_rpm']\n",
    "\n",
    "#df_temp_num = df_temp.apply(pd.to_numeric, errors ='coerce')\n",
    "\n",
    "for i in convert_num:\n",
    "    df[i] = df[i].apply(pd.to_numeric, errors='coerce')  \n",
    " "
   ]
  },
  {
   "cell_type": "code",
   "execution_count": 8,
   "metadata": {},
   "outputs": [
    {
     "name": "stdout",
     "output_type": "stream",
     "text": [
      "<class 'pandas.core.frame.DataFrame'>\n",
      "RangeIndex: 2059 entries, 0 to 2058\n",
      "Data columns (total 22 columns):\n",
      " #   Column              Non-Null Count  Dtype  \n",
      "---  ------              --------------  -----  \n",
      " 0   Make                2059 non-null   object \n",
      " 1   Model               2059 non-null   object \n",
      " 2   Price               2059 non-null   int64  \n",
      " 3   Year                2059 non-null   int64  \n",
      " 4   Kilometer           2059 non-null   int64  \n",
      " 5   Fuel Type           2059 non-null   object \n",
      " 6   Transmission        2059 non-null   object \n",
      " 7   Location            2059 non-null   object \n",
      " 8   Color               2059 non-null   object \n",
      " 9   Owner               2059 non-null   object \n",
      " 10  Seller Type         2059 non-null   object \n",
      " 11  Engine              1979 non-null   float64\n",
      " 12  Drivetrain          1923 non-null   object \n",
      " 13  Length              1995 non-null   float64\n",
      " 14  Width               1995 non-null   float64\n",
      " 15  Height              1995 non-null   float64\n",
      " 16  Seating Capacity    1995 non-null   float64\n",
      " 17  Fuel Tank Capacity  1946 non-null   float64\n",
      " 18  Max Power_hp        1979 non-null   float64\n",
      " 19  Max Power_rpm       1975 non-null   float64\n",
      " 20  Max Torque_nm       1979 non-null   float64\n",
      " 21  Max Torque_rpm      1979 non-null   float64\n",
      "dtypes: float64(10), int64(3), object(9)\n",
      "memory usage: 354.0+ KB\n"
     ]
    }
   ],
   "source": [
    "df.info()"
   ]
  },
  {
   "cell_type": "code",
   "execution_count": 9,
   "metadata": {},
   "outputs": [
    {
     "data": {
      "text/html": [
       "<div>\n",
       "<style scoped>\n",
       "    .dataframe tbody tr th:only-of-type {\n",
       "        vertical-align: middle;\n",
       "    }\n",
       "\n",
       "    .dataframe tbody tr th {\n",
       "        vertical-align: top;\n",
       "    }\n",
       "\n",
       "    .dataframe thead th {\n",
       "        text-align: right;\n",
       "    }\n",
       "</style>\n",
       "<table border=\"1\" class=\"dataframe\">\n",
       "  <thead>\n",
       "    <tr style=\"text-align: right;\">\n",
       "      <th></th>\n",
       "      <th>count</th>\n",
       "      <th>mean</th>\n",
       "      <th>min</th>\n",
       "      <th>max</th>\n",
       "      <th>50%</th>\n",
       "    </tr>\n",
       "  </thead>\n",
       "  <tbody>\n",
       "    <tr>\n",
       "      <th>Price</th>\n",
       "      <td>2059.0</td>\n",
       "      <td>1.702992e+06</td>\n",
       "      <td>49000.0</td>\n",
       "      <td>35000000.0</td>\n",
       "      <td>825000.0</td>\n",
       "    </tr>\n",
       "    <tr>\n",
       "      <th>Year</th>\n",
       "      <td>2059.0</td>\n",
       "      <td>2.016425e+03</td>\n",
       "      <td>1988.0</td>\n",
       "      <td>2022.0</td>\n",
       "      <td>2017.0</td>\n",
       "    </tr>\n",
       "    <tr>\n",
       "      <th>Kilometer</th>\n",
       "      <td>2059.0</td>\n",
       "      <td>5.422471e+04</td>\n",
       "      <td>0.0</td>\n",
       "      <td>2000000.0</td>\n",
       "      <td>50000.0</td>\n",
       "    </tr>\n",
       "    <tr>\n",
       "      <th>Engine</th>\n",
       "      <td>1979.0</td>\n",
       "      <td>1.692576e+03</td>\n",
       "      <td>624.0</td>\n",
       "      <td>6592.0</td>\n",
       "      <td>1498.0</td>\n",
       "    </tr>\n",
       "    <tr>\n",
       "      <th>Length</th>\n",
       "      <td>1995.0</td>\n",
       "      <td>4.280861e+03</td>\n",
       "      <td>3099.0</td>\n",
       "      <td>5569.0</td>\n",
       "      <td>4370.0</td>\n",
       "    </tr>\n",
       "    <tr>\n",
       "      <th>Width</th>\n",
       "      <td>1995.0</td>\n",
       "      <td>1.767992e+03</td>\n",
       "      <td>1475.0</td>\n",
       "      <td>2220.0</td>\n",
       "      <td>1770.0</td>\n",
       "    </tr>\n",
       "    <tr>\n",
       "      <th>Height</th>\n",
       "      <td>1995.0</td>\n",
       "      <td>1.591735e+03</td>\n",
       "      <td>1165.0</td>\n",
       "      <td>1995.0</td>\n",
       "      <td>1545.0</td>\n",
       "    </tr>\n",
       "    <tr>\n",
       "      <th>Seating Capacity</th>\n",
       "      <td>1995.0</td>\n",
       "      <td>5.306266e+00</td>\n",
       "      <td>2.0</td>\n",
       "      <td>8.0</td>\n",
       "      <td>5.0</td>\n",
       "    </tr>\n",
       "    <tr>\n",
       "      <th>Fuel Tank Capacity</th>\n",
       "      <td>1946.0</td>\n",
       "      <td>5.200221e+01</td>\n",
       "      <td>15.0</td>\n",
       "      <td>105.0</td>\n",
       "      <td>50.0</td>\n",
       "    </tr>\n",
       "    <tr>\n",
       "      <th>Max Power_hp</th>\n",
       "      <td>1979.0</td>\n",
       "      <td>1.296118e+02</td>\n",
       "      <td>35.0</td>\n",
       "      <td>660.0</td>\n",
       "      <td>116.0</td>\n",
       "    </tr>\n",
       "    <tr>\n",
       "      <th>Max Power_rpm</th>\n",
       "      <td>1975.0</td>\n",
       "      <td>4.835094e+03</td>\n",
       "      <td>2910.0</td>\n",
       "      <td>8250.0</td>\n",
       "      <td>4200.0</td>\n",
       "    </tr>\n",
       "    <tr>\n",
       "      <th>Max Torque_nm</th>\n",
       "      <td>1979.0</td>\n",
       "      <td>2.458510e+02</td>\n",
       "      <td>48.0</td>\n",
       "      <td>780.0</td>\n",
       "      <td>200.0</td>\n",
       "    </tr>\n",
       "    <tr>\n",
       "      <th>Max Torque_rpm</th>\n",
       "      <td>1979.0</td>\n",
       "      <td>2.619545e+03</td>\n",
       "      <td>150.0</td>\n",
       "      <td>6500.0</td>\n",
       "      <td>1900.0</td>\n",
       "    </tr>\n",
       "  </tbody>\n",
       "</table>\n",
       "</div>"
      ],
      "text/plain": [
       "                     count          mean      min         max       50%\n",
       "Price               2059.0  1.702992e+06  49000.0  35000000.0  825000.0\n",
       "Year                2059.0  2.016425e+03   1988.0      2022.0    2017.0\n",
       "Kilometer           2059.0  5.422471e+04      0.0   2000000.0   50000.0\n",
       "Engine              1979.0  1.692576e+03    624.0      6592.0    1498.0\n",
       "Length              1995.0  4.280861e+03   3099.0      5569.0    4370.0\n",
       "Width               1995.0  1.767992e+03   1475.0      2220.0    1770.0\n",
       "Height              1995.0  1.591735e+03   1165.0      1995.0    1545.0\n",
       "Seating Capacity    1995.0  5.306266e+00      2.0         8.0       5.0\n",
       "Fuel Tank Capacity  1946.0  5.200221e+01     15.0       105.0      50.0\n",
       "Max Power_hp        1979.0  1.296118e+02     35.0       660.0     116.0\n",
       "Max Power_rpm       1975.0  4.835094e+03   2910.0      8250.0    4200.0\n",
       "Max Torque_nm       1979.0  2.458510e+02     48.0       780.0     200.0\n",
       "Max Torque_rpm      1979.0  2.619545e+03    150.0      6500.0    1900.0"
      ]
     },
     "execution_count": 9,
     "metadata": {},
     "output_type": "execute_result"
    }
   ],
   "source": [
    "#Summary for Numerical Values\n",
    "df.select_dtypes(['float64', 'int64']).describe().transpose()[['count', 'mean', 'min', 'max','50%']]"
   ]
  },
  {
   "cell_type": "code",
   "execution_count": 10,
   "metadata": {},
   "outputs": [
    {
     "data": {
      "text/plain": [
       "Index(['Make', 'Model', 'Fuel Type', 'Transmission', 'Location', 'Color',\n",
       "       'Owner', 'Seller Type', 'Drivetrain'],\n",
       "      dtype='object')"
      ]
     },
     "execution_count": 10,
     "metadata": {},
     "output_type": "execute_result"
    }
   ],
   "source": [
    "df.select_dtypes(['object']).columns"
   ]
  },
  {
   "cell_type": "code",
   "execution_count": 11,
   "metadata": {},
   "outputs": [
    {
     "name": "stdout",
     "output_type": "stream",
     "text": [
      "Make = 33\n",
      "Model = 1050\n",
      "Fuel Type = 9\n",
      "Transmission = 2\n",
      "Location = 77\n",
      "Color = 17\n",
      "Owner = 6\n",
      "Seller Type = 3\n",
      "Drivetrain = 3\n"
     ]
    }
   ],
   "source": [
    "#Unique Values for Categorical Features\n",
    "object_list = df.select_dtypes(['object']).columns\n",
    "\n",
    "for i in object_list:\n",
    "    print(f\"{i} = {df[i].nunique()}\")"
   ]
  },
  {
   "cell_type": "code",
   "execution_count": 12,
   "metadata": {},
   "outputs": [],
   "source": [
    "#Removing select categorical variables to avoid curse of dimensionality\n",
    "df = df.drop(['Model', 'Location'], axis=1)\n"
   ]
  },
  {
   "cell_type": "code",
   "execution_count": 13,
   "metadata": {},
   "outputs": [
    {
     "data": {
      "text/plain": [
       "Index(['Make', 'Fuel Type', 'Transmission', 'Color', 'Owner', 'Seller Type',\n",
       "       'Drivetrain'],\n",
       "      dtype='object')"
      ]
     },
     "execution_count": 13,
     "metadata": {},
     "output_type": "execute_result"
    }
   ],
   "source": [
    "df.select_dtypes(['object']).columns"
   ]
  },
  {
   "cell_type": "code",
   "execution_count": 14,
   "metadata": {},
   "outputs": [],
   "source": [
    "object_list2 = df.select_dtypes(['object']).columns"
   ]
  },
  {
   "cell_type": "code",
   "execution_count": 15,
   "metadata": {},
   "outputs": [
    {
     "data": {
      "text/plain": [
       "Make                   object\n",
       "Price                   int64\n",
       "Year                    int64\n",
       "Kilometer               int64\n",
       "Fuel Type              object\n",
       "Transmission           object\n",
       "Color                  object\n",
       "Owner                  object\n",
       "Seller Type            object\n",
       "Engine                float64\n",
       "Drivetrain             object\n",
       "Length                float64\n",
       "Width                 float64\n",
       "Height                float64\n",
       "Seating Capacity      float64\n",
       "Fuel Tank Capacity    float64\n",
       "Max Power_hp          float64\n",
       "Max Power_rpm         float64\n",
       "Max Torque_nm         float64\n",
       "Max Torque_rpm        float64\n",
       "dtype: object"
      ]
     },
     "execution_count": 15,
     "metadata": {},
     "output_type": "execute_result"
    }
   ],
   "source": [
    "df.dtypes"
   ]
  },
  {
   "cell_type": "markdown",
   "metadata": {},
   "source": [
    "## Dealing With Missing Data "
   ]
  },
  {
   "cell_type": "code",
   "execution_count": 16,
   "metadata": {},
   "outputs": [
    {
     "data": {
      "text/plain": [
       "Make                    0\n",
       "Price                   0\n",
       "Year                    0\n",
       "Kilometer               0\n",
       "Fuel Type               0\n",
       "Transmission            0\n",
       "Color                   0\n",
       "Owner                   0\n",
       "Seller Type             0\n",
       "Engine                 80\n",
       "Drivetrain            136\n",
       "Length                 64\n",
       "Width                  64\n",
       "Height                 64\n",
       "Seating Capacity       64\n",
       "Fuel Tank Capacity    113\n",
       "Max Power_hp           80\n",
       "Max Power_rpm          84\n",
       "Max Torque_nm          80\n",
       "Max Torque_rpm         80\n",
       "dtype: int64"
      ]
     },
     "execution_count": 16,
     "metadata": {},
     "output_type": "execute_result"
    }
   ],
   "source": [
    "df.isnull().sum()"
   ]
  },
  {
   "cell_type": "code",
   "execution_count": 17,
   "metadata": {},
   "outputs": [],
   "source": [
    "#Drop rows with missing data\n",
    "df.dropna(inplace=True)"
   ]
  },
  {
   "cell_type": "code",
   "execution_count": 18,
   "metadata": {},
   "outputs": [
    {
     "name": "stdout",
     "output_type": "stream",
     "text": [
      "<class 'pandas.core.frame.DataFrame'>\n",
      "Index: 1872 entries, 0 to 2057\n",
      "Data columns (total 20 columns):\n",
      " #   Column              Non-Null Count  Dtype  \n",
      "---  ------              --------------  -----  \n",
      " 0   Make                1872 non-null   object \n",
      " 1   Price               1872 non-null   int64  \n",
      " 2   Year                1872 non-null   int64  \n",
      " 3   Kilometer           1872 non-null   int64  \n",
      " 4   Fuel Type           1872 non-null   object \n",
      " 5   Transmission        1872 non-null   object \n",
      " 6   Color               1872 non-null   object \n",
      " 7   Owner               1872 non-null   object \n",
      " 8   Seller Type         1872 non-null   object \n",
      " 9   Engine              1872 non-null   float64\n",
      " 10  Drivetrain          1872 non-null   object \n",
      " 11  Length              1872 non-null   float64\n",
      " 12  Width               1872 non-null   float64\n",
      " 13  Height              1872 non-null   float64\n",
      " 14  Seating Capacity    1872 non-null   float64\n",
      " 15  Fuel Tank Capacity  1872 non-null   float64\n",
      " 16  Max Power_hp        1872 non-null   float64\n",
      " 17  Max Power_rpm       1872 non-null   float64\n",
      " 18  Max Torque_nm       1872 non-null   float64\n",
      " 19  Max Torque_rpm      1872 non-null   float64\n",
      "dtypes: float64(10), int64(3), object(7)\n",
      "memory usage: 307.1+ KB\n"
     ]
    }
   ],
   "source": [
    "df.info()"
   ]
  },
  {
   "cell_type": "markdown",
   "metadata": {},
   "source": [
    "## Splitting the Data "
   ]
  },
  {
   "cell_type": "code",
   "execution_count": 19,
   "metadata": {},
   "outputs": [],
   "source": [
    "X = df.drop(columns=[\"Price\"])\n",
    "y = df[\"Price\"]"
   ]
  },
  {
   "cell_type": "markdown",
   "metadata": {},
   "source": [
    "## One-Hot Encoding "
   ]
  },
  {
   "cell_type": "code",
   "execution_count": 20,
   "metadata": {},
   "outputs": [
    {
     "data": {
      "text/html": [
       "<div>\n",
       "<style scoped>\n",
       "    .dataframe tbody tr th:only-of-type {\n",
       "        vertical-align: middle;\n",
       "    }\n",
       "\n",
       "    .dataframe tbody tr th {\n",
       "        vertical-align: top;\n",
       "    }\n",
       "\n",
       "    .dataframe thead th {\n",
       "        text-align: right;\n",
       "    }\n",
       "</style>\n",
       "<table border=\"1\" class=\"dataframe\">\n",
       "  <thead>\n",
       "    <tr style=\"text-align: right;\">\n",
       "      <th></th>\n",
       "      <th>Year</th>\n",
       "      <th>Kilometer</th>\n",
       "      <th>Engine</th>\n",
       "      <th>Length</th>\n",
       "      <th>Width</th>\n",
       "      <th>Height</th>\n",
       "      <th>Seating Capacity</th>\n",
       "      <th>Fuel Tank Capacity</th>\n",
       "      <th>Max Power_hp</th>\n",
       "      <th>Max Power_rpm</th>\n",
       "      <th>...</th>\n",
       "      <th>Owner_First</th>\n",
       "      <th>Owner_Second</th>\n",
       "      <th>Owner_Third</th>\n",
       "      <th>Owner_UnRegistered Car</th>\n",
       "      <th>Seller Type_Commercial Registration</th>\n",
       "      <th>Seller Type_Corporate</th>\n",
       "      <th>Seller Type_Individual</th>\n",
       "      <th>Drivetrain_AWD</th>\n",
       "      <th>Drivetrain_FWD</th>\n",
       "      <th>Drivetrain_RWD</th>\n",
       "    </tr>\n",
       "  </thead>\n",
       "  <tbody>\n",
       "    <tr>\n",
       "      <th>0</th>\n",
       "      <td>2017</td>\n",
       "      <td>87150</td>\n",
       "      <td>1198.0</td>\n",
       "      <td>3990.0</td>\n",
       "      <td>1680.0</td>\n",
       "      <td>1505.0</td>\n",
       "      <td>5.0</td>\n",
       "      <td>35.0</td>\n",
       "      <td>87.0</td>\n",
       "      <td>6000.0</td>\n",
       "      <td>...</td>\n",
       "      <td>True</td>\n",
       "      <td>False</td>\n",
       "      <td>False</td>\n",
       "      <td>False</td>\n",
       "      <td>False</td>\n",
       "      <td>True</td>\n",
       "      <td>False</td>\n",
       "      <td>False</td>\n",
       "      <td>True</td>\n",
       "      <td>False</td>\n",
       "    </tr>\n",
       "    <tr>\n",
       "      <th>1</th>\n",
       "      <td>2014</td>\n",
       "      <td>75000</td>\n",
       "      <td>1248.0</td>\n",
       "      <td>3995.0</td>\n",
       "      <td>1695.0</td>\n",
       "      <td>1555.0</td>\n",
       "      <td>5.0</td>\n",
       "      <td>42.0</td>\n",
       "      <td>74.0</td>\n",
       "      <td>4000.0</td>\n",
       "      <td>...</td>\n",
       "      <td>False</td>\n",
       "      <td>True</td>\n",
       "      <td>False</td>\n",
       "      <td>False</td>\n",
       "      <td>False</td>\n",
       "      <td>False</td>\n",
       "      <td>True</td>\n",
       "      <td>False</td>\n",
       "      <td>True</td>\n",
       "      <td>False</td>\n",
       "    </tr>\n",
       "    <tr>\n",
       "      <th>2</th>\n",
       "      <td>2011</td>\n",
       "      <td>67000</td>\n",
       "      <td>1197.0</td>\n",
       "      <td>3585.0</td>\n",
       "      <td>1595.0</td>\n",
       "      <td>1550.0</td>\n",
       "      <td>5.0</td>\n",
       "      <td>35.0</td>\n",
       "      <td>79.0</td>\n",
       "      <td>6000.0</td>\n",
       "      <td>...</td>\n",
       "      <td>True</td>\n",
       "      <td>False</td>\n",
       "      <td>False</td>\n",
       "      <td>False</td>\n",
       "      <td>False</td>\n",
       "      <td>False</td>\n",
       "      <td>True</td>\n",
       "      <td>False</td>\n",
       "      <td>True</td>\n",
       "      <td>False</td>\n",
       "    </tr>\n",
       "    <tr>\n",
       "      <th>3</th>\n",
       "      <td>2019</td>\n",
       "      <td>37500</td>\n",
       "      <td>1197.0</td>\n",
       "      <td>3995.0</td>\n",
       "      <td>1745.0</td>\n",
       "      <td>1510.0</td>\n",
       "      <td>5.0</td>\n",
       "      <td>37.0</td>\n",
       "      <td>82.0</td>\n",
       "      <td>6000.0</td>\n",
       "      <td>...</td>\n",
       "      <td>True</td>\n",
       "      <td>False</td>\n",
       "      <td>False</td>\n",
       "      <td>False</td>\n",
       "      <td>False</td>\n",
       "      <td>False</td>\n",
       "      <td>True</td>\n",
       "      <td>False</td>\n",
       "      <td>True</td>\n",
       "      <td>False</td>\n",
       "    </tr>\n",
       "    <tr>\n",
       "      <th>4</th>\n",
       "      <td>2018</td>\n",
       "      <td>69000</td>\n",
       "      <td>2393.0</td>\n",
       "      <td>4735.0</td>\n",
       "      <td>1830.0</td>\n",
       "      <td>1795.0</td>\n",
       "      <td>7.0</td>\n",
       "      <td>55.0</td>\n",
       "      <td>148.0</td>\n",
       "      <td>3400.0</td>\n",
       "      <td>...</td>\n",
       "      <td>True</td>\n",
       "      <td>False</td>\n",
       "      <td>False</td>\n",
       "      <td>False</td>\n",
       "      <td>False</td>\n",
       "      <td>False</td>\n",
       "      <td>True</td>\n",
       "      <td>False</td>\n",
       "      <td>False</td>\n",
       "      <td>True</td>\n",
       "    </tr>\n",
       "  </tbody>\n",
       "</table>\n",
       "<p>5 rows × 79 columns</p>\n",
       "</div>"
      ],
      "text/plain": [
       "   Year  Kilometer  Engine  Length   Width  Height  Seating Capacity  \\\n",
       "0  2017      87150  1198.0  3990.0  1680.0  1505.0               5.0   \n",
       "1  2014      75000  1248.0  3995.0  1695.0  1555.0               5.0   \n",
       "2  2011      67000  1197.0  3585.0  1595.0  1550.0               5.0   \n",
       "3  2019      37500  1197.0  3995.0  1745.0  1510.0               5.0   \n",
       "4  2018      69000  2393.0  4735.0  1830.0  1795.0               7.0   \n",
       "\n",
       "   Fuel Tank Capacity  Max Power_hp  Max Power_rpm  ...  Owner_First  \\\n",
       "0                35.0          87.0         6000.0  ...         True   \n",
       "1                42.0          74.0         4000.0  ...        False   \n",
       "2                35.0          79.0         6000.0  ...         True   \n",
       "3                37.0          82.0         6000.0  ...         True   \n",
       "4                55.0         148.0         3400.0  ...         True   \n",
       "\n",
       "   Owner_Second  Owner_Third  Owner_UnRegistered Car  \\\n",
       "0         False        False                   False   \n",
       "1          True        False                   False   \n",
       "2         False        False                   False   \n",
       "3         False        False                   False   \n",
       "4         False        False                   False   \n",
       "\n",
       "   Seller Type_Commercial Registration  Seller Type_Corporate  \\\n",
       "0                                False                   True   \n",
       "1                                False                  False   \n",
       "2                                False                  False   \n",
       "3                                False                  False   \n",
       "4                                False                  False   \n",
       "\n",
       "   Seller Type_Individual  Drivetrain_AWD  Drivetrain_FWD  Drivetrain_RWD  \n",
       "0                   False           False            True           False  \n",
       "1                    True           False            True           False  \n",
       "2                    True           False            True           False  \n",
       "3                    True           False            True           False  \n",
       "4                    True           False           False            True  \n",
       "\n",
       "[5 rows x 79 columns]"
      ]
     },
     "execution_count": 20,
     "metadata": {},
     "output_type": "execute_result"
    }
   ],
   "source": [
    "# One hot encode variables \n",
    "\n",
    "X_encoded = pd.get_dummies(X, columns=object_list2)\n",
    "\n",
    "X_encoded.head()"
   ]
  },
  {
   "cell_type": "code",
   "execution_count": 21,
   "metadata": {},
   "outputs": [
    {
     "name": "stdout",
     "output_type": "stream",
     "text": [
      "<class 'pandas.core.frame.DataFrame'>\n",
      "Index: 1872 entries, 0 to 2057\n",
      "Data columns (total 79 columns):\n",
      " #   Column                               Non-Null Count  Dtype  \n",
      "---  ------                               --------------  -----  \n",
      " 0   Year                                 1872 non-null   int64  \n",
      " 1   Kilometer                            1872 non-null   int64  \n",
      " 2   Engine                               1872 non-null   float64\n",
      " 3   Length                               1872 non-null   float64\n",
      " 4   Width                                1872 non-null   float64\n",
      " 5   Height                               1872 non-null   float64\n",
      " 6   Seating Capacity                     1872 non-null   float64\n",
      " 7   Fuel Tank Capacity                   1872 non-null   float64\n",
      " 8   Max Power_hp                         1872 non-null   float64\n",
      " 9   Max Power_rpm                        1872 non-null   float64\n",
      " 10  Max Torque_nm                        1872 non-null   float64\n",
      " 11  Max Torque_rpm                       1872 non-null   float64\n",
      " 12  Make_Audi                            1872 non-null   bool   \n",
      " 13  Make_BMW                             1872 non-null   bool   \n",
      " 14  Make_Chevrolet                       1872 non-null   bool   \n",
      " 15  Make_Datsun                          1872 non-null   bool   \n",
      " 16  Make_Ferrari                         1872 non-null   bool   \n",
      " 17  Make_Fiat                            1872 non-null   bool   \n",
      " 18  Make_Ford                            1872 non-null   bool   \n",
      " 19  Make_Honda                           1872 non-null   bool   \n",
      " 20  Make_Hyundai                         1872 non-null   bool   \n",
      " 21  Make_Isuzu                           1872 non-null   bool   \n",
      " 22  Make_Jaguar                          1872 non-null   bool   \n",
      " 23  Make_Jeep                            1872 non-null   bool   \n",
      " 24  Make_Kia                             1872 non-null   bool   \n",
      " 25  Make_Land Rover                      1872 non-null   bool   \n",
      " 26  Make_Lexus                           1872 non-null   bool   \n",
      " 27  Make_MG                              1872 non-null   bool   \n",
      " 28  Make_MINI                            1872 non-null   bool   \n",
      " 29  Make_Mahindra                        1872 non-null   bool   \n",
      " 30  Make_Maruti Suzuki                   1872 non-null   bool   \n",
      " 31  Make_Maserati                        1872 non-null   bool   \n",
      " 32  Make_Mercedes-Benz                   1872 non-null   bool   \n",
      " 33  Make_Mitsubishi                      1872 non-null   bool   \n",
      " 34  Make_Nissan                          1872 non-null   bool   \n",
      " 35  Make_Porsche                         1872 non-null   bool   \n",
      " 36  Make_Renault                         1872 non-null   bool   \n",
      " 37  Make_Rolls-Royce                     1872 non-null   bool   \n",
      " 38  Make_Skoda                           1872 non-null   bool   \n",
      " 39  Make_Ssangyong                       1872 non-null   bool   \n",
      " 40  Make_Tata                            1872 non-null   bool   \n",
      " 41  Make_Toyota                          1872 non-null   bool   \n",
      " 42  Make_Volkswagen                      1872 non-null   bool   \n",
      " 43  Make_Volvo                           1872 non-null   bool   \n",
      " 44  Fuel Type_CNG                        1872 non-null   bool   \n",
      " 45  Fuel Type_CNG + CNG                  1872 non-null   bool   \n",
      " 46  Fuel Type_Diesel                     1872 non-null   bool   \n",
      " 47  Fuel Type_Hybrid                     1872 non-null   bool   \n",
      " 48  Fuel Type_LPG                        1872 non-null   bool   \n",
      " 49  Fuel Type_Petrol                     1872 non-null   bool   \n",
      " 50  Fuel Type_Petrol + CNG               1872 non-null   bool   \n",
      " 51  Transmission_Automatic               1872 non-null   bool   \n",
      " 52  Transmission_Manual                  1872 non-null   bool   \n",
      " 53  Color_Beige                          1872 non-null   bool   \n",
      " 54  Color_Black                          1872 non-null   bool   \n",
      " 55  Color_Blue                           1872 non-null   bool   \n",
      " 56  Color_Bronze                         1872 non-null   bool   \n",
      " 57  Color_Brown                          1872 non-null   bool   \n",
      " 58  Color_Gold                           1872 non-null   bool   \n",
      " 59  Color_Green                          1872 non-null   bool   \n",
      " 60  Color_Grey                           1872 non-null   bool   \n",
      " 61  Color_Maroon                         1872 non-null   bool   \n",
      " 62  Color_Orange                         1872 non-null   bool   \n",
      " 63  Color_Others                         1872 non-null   bool   \n",
      " 64  Color_Purple                         1872 non-null   bool   \n",
      " 65  Color_Red                            1872 non-null   bool   \n",
      " 66  Color_Silver                         1872 non-null   bool   \n",
      " 67  Color_White                          1872 non-null   bool   \n",
      " 68  Color_Yellow                         1872 non-null   bool   \n",
      " 69  Owner_First                          1872 non-null   bool   \n",
      " 70  Owner_Second                         1872 non-null   bool   \n",
      " 71  Owner_Third                          1872 non-null   bool   \n",
      " 72  Owner_UnRegistered Car               1872 non-null   bool   \n",
      " 73  Seller Type_Commercial Registration  1872 non-null   bool   \n",
      " 74  Seller Type_Corporate                1872 non-null   bool   \n",
      " 75  Seller Type_Individual               1872 non-null   bool   \n",
      " 76  Drivetrain_AWD                       1872 non-null   bool   \n",
      " 77  Drivetrain_FWD                       1872 non-null   bool   \n",
      " 78  Drivetrain_RWD                       1872 non-null   bool   \n",
      "dtypes: bool(67), float64(10), int64(2)\n",
      "memory usage: 312.6 KB\n"
     ]
    }
   ],
   "source": [
    "X_encoded.info()"
   ]
  },
  {
   "cell_type": "code",
   "execution_count": 22,
   "metadata": {},
   "outputs": [
    {
     "data": {
      "text/plain": [
       "0     505000\n",
       "1     450000\n",
       "2     220000\n",
       "3     799000\n",
       "4    1950000\n",
       "Name: Price, dtype: int64"
      ]
     },
     "execution_count": 22,
     "metadata": {},
     "output_type": "execute_result"
    }
   ],
   "source": [
    "y.head()"
   ]
  },
  {
   "cell_type": "markdown",
   "metadata": {},
   "source": [
    "## Building the XGBoost Model"
   ]
  },
  {
   "cell_type": "code",
   "execution_count": null,
   "metadata": {},
   "outputs": [],
   "source": []
  },
  {
   "cell_type": "code",
   "execution_count": 23,
   "metadata": {},
   "outputs": [],
   "source": [
    "## split the data into training and testing sets\n",
    "X_train, X_test, y_train, y_test = train_test_split(X_encoded, y, test_size=0.2,  random_state=42)\n",
    "\n",
    "scaler = StandardScaler()\n",
    "\n",
    "X_test = scaler.fit_transform(X_test)\n",
    "X_train = scaler.fit_transform(X_train)"
   ]
  },
  {
   "cell_type": "code",
   "execution_count": 24,
   "metadata": {},
   "outputs": [],
   "source": [
    "# Create regression matrices\n",
    "dtrain_reg = xgb.DMatrix(X_train, y_train, enable_categorical=True)\n",
    "dtest_reg = xgb.DMatrix(X_test, y_test, enable_categorical=True)"
   ]
  },
  {
   "cell_type": "code",
   "execution_count": 25,
   "metadata": {},
   "outputs": [],
   "source": [
    "# Define hyperparameters\n",
    "params = {\"objective\": \"reg:squarederror\", \"tree_method\": \"gpu_hist\"}\n",
    "\n",
    "n = 100\n",
    "model = xgb.train(params=params, dtrain=dtrain_reg, num_boost_round=n)"
   ]
  },
  {
   "cell_type": "code",
   "execution_count": 26,
   "metadata": {},
   "outputs": [],
   "source": [
    "## Prediction and Model Evaluation \n",
    "\n",
    "preds = model.predict(dtest_reg)\n",
    "\n"
   ]
  },
  {
   "cell_type": "markdown",
   "metadata": {},
   "source": [
    "## Evaluation of the XGBoost Model"
   ]
  },
  {
   "cell_type": "code",
   "execution_count": 27,
   "metadata": {},
   "outputs": [
    {
     "name": "stdout",
     "output_type": "stream",
     "text": [
      "RMSE: 814877.04\n",
      "R-squared: 0.82\n"
     ]
    }
   ],
   "source": [
    "rmse = mean_squared_error(y_test, preds, squared=False)\n",
    "r2 = r2_score(y_test, preds)\n",
    "\n",
    "print(f\"RMSE: {rmse:.2f}\")\n",
    "print(f\"R-squared: {r2:.2f}\")"
   ]
  },
  {
   "cell_type": "code",
   "execution_count": 28,
   "metadata": {},
   "outputs": [
    {
     "data": {
      "image/png": "[encoded data removed]",
      "text/plain": [
       "<Figure size 1500x1000 with 1 Axes>"
      ]
     },
     "metadata": {},
     "output_type": "display_data"
    }
   ],
   "source": [
    "plt.figure(figsize=(15,10))\n",
    "plt.scatter(range(len(y_test)), y_test, color=\"red\")\n",
    "plt.scatter(range(len(preds)), preds, color=\"blue\")\n",
    "plt.xlabel('Count')\n",
    "plt.ylabel('Price')\n",
    "plt.title(\"XGBoost - Actual vs Predict Values\")\n",
    "plt.legend(labels=['Actual', 'Predicted'])\n",
    "plt.show()"
   ]
  },
  {
   "cell_type": "code",
   "execution_count": 29,
   "metadata": {},
   "outputs": [
    {
     "data": {
      "image/png": "[encoded data removed]",
      "text/plain": [
       "<Figure size 1500x1000 with 1 Axes>"
      ]
     },
     "metadata": {},
     "output_type": "display_data"
    }
   ],
   "source": [
    "plt.figure(figsize=(15,10))\n",
    "plt.scatter(y_test, y_test, color=\"red\")\n",
    "plt.scatter(y_test, preds, color=\"blue\")\n",
    "plt.legend(labels=['Actual', 'Predicted'])\n",
    "plt.xlabel('Actual Price')\n",
    "plt.ylabel('Predicted Price')\n",
    "plt.title(\"XGBoost - Actual vs Predict Values\")\n",
    "plt.show()"
   ]
  },
  {
   "cell_type": "markdown",
   "metadata": {},
   "source": [
    "## Neural Networks with Tensorflow"
   ]
  },
  {
   "cell_type": "code",
   "execution_count": 69,
   "metadata": {},
   "outputs": [],
   "source": [
    "def rmse(y_true, y_pred):\n",
    "    return K.sqrt(K.mean(K.square(y_pred - y_true)))"
   ]
  },
  {
   "cell_type": "code",
   "execution_count": 76,
   "metadata": {},
   "outputs": [
    {
     "data": {
      "text/plain": [
       "264       145000.0\n",
       "1561      990000.0\n",
       "1043     3775000.0\n",
       "795       695000.0\n",
       "1742    12500000.0\n",
       "           ...    \n",
       "1245      425000.0\n",
       "1423      434000.0\n",
       "949      5250000.0\n",
       "1602      675000.0\n",
       "1241     3199000.0\n",
       "Name: Price, Length: 1497, dtype: float32"
      ]
     },
     "execution_count": 76,
     "metadata": {},
     "output_type": "execute_result"
    }
   ],
   "source": [
    "y_train = y_train.astype('float32')\n",
    "y_train"
   ]
  },
  {
   "cell_type": "code",
   "execution_count": 77,
   "metadata": {},
   "outputs": [
    {
     "data": {
      "text/plain": [
       "array([[-2.52946866, -0.22093616, -0.98595772, ..., -0.40282388,\n",
       "         0.65038742, -0.4326119 ],\n",
       "       [-0.56918501,  0.75180559,  1.28477875, ..., -0.40282388,\n",
       "        -1.5375451 ,  2.31154069],\n",
       "       [ 1.0643847 , -0.04751656,  1.6983602 , ..., -0.40282388,\n",
       "        -1.5375451 ,  2.31154069],\n",
       "       ...,\n",
       "       [ 1.0643847 , -0.412557  ,  0.42275458, ..., -0.40282388,\n",
       "        -1.5375451 ,  2.31154069],\n",
       "       [-0.24247107, -0.06170453, -0.4915615 , ..., -0.40282388,\n",
       "         0.65038742, -0.4326119 ],\n",
       "       [ 0.73767076, -0.76524125,  0.45127744, ..., -0.40282388,\n",
       "         0.65038742, -0.4326119 ]])"
      ]
     },
     "execution_count": 77,
     "metadata": {},
     "output_type": "execute_result"
    }
   ],
   "source": [
    "X_train"
   ]
  },
  {
   "cell_type": "code",
   "execution_count": 90,
   "metadata": {},
   "outputs": [
    {
     "name": "stdout",
     "output_type": "stream",
     "text": [
      "Epoch 1/30\n",
      "\u001b[1m47/47\u001b[0m \u001b[32m━━━━━━━━━━━━━━━━━━━━\u001b[0m\u001b[37m\u001b[0m \u001b[1m1s\u001b[0m 1ms/step - loss: 1710614.7500 - rmse: 2827405.7500\n",
      "Epoch 2/30\n",
      "\u001b[1m47/47\u001b[0m \u001b[32m━━━━━━━━━━━━━━━━━━━━\u001b[0m\u001b[37m\u001b[0m \u001b[1m0s\u001b[0m 1ms/step - loss: 1692899.3750 - rmse: 2814421.2500\n",
      "Epoch 3/30\n",
      "\u001b[1m47/47\u001b[0m \u001b[32m━━━━━━━━━━━━━━━━━━━━\u001b[0m\u001b[37m\u001b[0m \u001b[1m0s\u001b[0m 1ms/step - loss: 1371827.2500 - rmse: 2540577.5000\n",
      "Epoch 4/30\n",
      "\u001b[1m47/47\u001b[0m \u001b[32m━━━━━━━━━━━━━━━━━━━━\u001b[0m\u001b[37m\u001b[0m \u001b[1m0s\u001b[0m 1ms/step - loss: 830425.5000 - rmse: 1742588.7500 \n",
      "Epoch 5/30\n",
      "\u001b[1m47/47\u001b[0m \u001b[32m━━━━━━━━━━━━━━━━━━━━\u001b[0m\u001b[37m\u001b[0m \u001b[1m0s\u001b[0m 1ms/step - loss: 665652.3750 - rmse: 1468621.5000\n",
      "Epoch 6/30\n",
      "\u001b[1m47/47\u001b[0m \u001b[32m━━━━━━━━━━━━━━━━━━━━\u001b[0m\u001b[37m\u001b[0m \u001b[1m0s\u001b[0m 1ms/step - loss: 567554.5000 - rmse: 1349459.2500\n",
      "Epoch 7/30\n",
      "\u001b[1m47/47\u001b[0m \u001b[32m━━━━━━━━━━━━━━━━━━━━\u001b[0m\u001b[37m\u001b[0m \u001b[1m0s\u001b[0m 1ms/step - loss: 505997.2188 - rmse: 1261293.0000\n",
      "Epoch 8/30\n",
      "\u001b[1m47/47\u001b[0m \u001b[32m━━━━━━━━━━━━━━━━━━━━\u001b[0m\u001b[37m\u001b[0m \u001b[1m0s\u001b[0m 1ms/step - loss: 468547.2812 - rmse: 1198048.1250\n",
      "Epoch 9/30\n",
      "\u001b[1m47/47\u001b[0m \u001b[32m━━━━━━━━━━━━━━━━━━━━\u001b[0m\u001b[37m\u001b[0m \u001b[1m0s\u001b[0m 1ms/step - loss: 441015.5938 - rmse: 1137331.5000\n",
      "Epoch 10/30\n",
      "\u001b[1m47/47\u001b[0m \u001b[32m━━━━━━━━━━━━━━━━━━━━\u001b[0m\u001b[37m\u001b[0m \u001b[1m0s\u001b[0m 1ms/step - loss: 417914.2188 - rmse: 1079699.2500\n",
      "Epoch 11/30\n",
      "\u001b[1m47/47\u001b[0m \u001b[32m━━━━━━━━━━━━━━━━━━━━\u001b[0m\u001b[37m\u001b[0m \u001b[1m0s\u001b[0m 1ms/step - loss: 400063.5938 - rmse: 1033723.7500\n",
      "Epoch 12/30\n",
      "\u001b[1m47/47\u001b[0m \u001b[32m━━━━━━━━━━━━━━━━━━━━\u001b[0m\u001b[37m\u001b[0m \u001b[1m0s\u001b[0m 1ms/step - loss: 384985.7812 - rmse: 996225.7500\n",
      "Epoch 13/30\n",
      "\u001b[1m47/47\u001b[0m \u001b[32m━━━━━━━━━━━━━━━━━━━━\u001b[0m\u001b[37m\u001b[0m \u001b[1m0s\u001b[0m 1ms/step - loss: 372338.4375 - rmse: 964138.8125\n",
      "Epoch 14/30\n",
      "\u001b[1m47/47\u001b[0m \u001b[32m━━━━━━━━━━━━━━━━━━━━\u001b[0m\u001b[37m\u001b[0m \u001b[1m0s\u001b[0m 1ms/step - loss: 360516.9688 - rmse: 929085.6875\n",
      "Epoch 15/30\n",
      "\u001b[1m47/47\u001b[0m \u001b[32m━━━━━━━━━━━━━━━━━━━━\u001b[0m\u001b[37m\u001b[0m \u001b[1m0s\u001b[0m 1ms/step - loss: 351160.0625 - rmse: 899823.1875\n",
      "Epoch 16/30\n",
      "\u001b[1m47/47\u001b[0m \u001b[32m━━━━━━━━━━━━━━━━━━━━\u001b[0m\u001b[37m\u001b[0m \u001b[1m0s\u001b[0m 1ms/step - loss: 340762.1250 - rmse: 865545.1250\n",
      "Epoch 17/30\n",
      "\u001b[1m47/47\u001b[0m \u001b[32m━━━━━━━━━━━━━━━━━━━━\u001b[0m\u001b[37m\u001b[0m \u001b[1m0s\u001b[0m 1ms/step - loss: 331965.0938 - rmse: 832868.8750\n",
      "Epoch 18/30\n",
      "\u001b[1m47/47\u001b[0m \u001b[32m━━━━━━━━━━━━━━━━━━━━\u001b[0m\u001b[37m\u001b[0m \u001b[1m0s\u001b[0m 1ms/step - loss: 322810.4062 - rmse: 802364.6250\n",
      "Epoch 19/30\n",
      "\u001b[1m47/47\u001b[0m \u001b[32m━━━━━━━━━━━━━━━━━━━━\u001b[0m\u001b[37m\u001b[0m \u001b[1m0s\u001b[0m 1ms/step - loss: 313877.0000 - rmse: 771289.5000\n",
      "Epoch 20/30\n",
      "\u001b[1m47/47\u001b[0m \u001b[32m━━━━━━━━━━━━━━━━━━━━\u001b[0m\u001b[37m\u001b[0m \u001b[1m0s\u001b[0m 1ms/step - loss: 307492.8750 - rmse: 740137.5000\n",
      "Epoch 21/30\n",
      "\u001b[1m47/47\u001b[0m \u001b[32m━━━━━━━━━━━━━━━━━━━━\u001b[0m\u001b[37m\u001b[0m \u001b[1m0s\u001b[0m 1ms/step - loss: 299831.4375 - rmse: 711708.1875\n",
      "Epoch 22/30\n",
      "\u001b[1m47/47\u001b[0m \u001b[32m━━━━━━━━━━━━━━━━━━━━\u001b[0m\u001b[37m\u001b[0m \u001b[1m0s\u001b[0m 1ms/step - loss: 293471.8438 - rmse: 688804.1250\n",
      "Epoch 23/30\n",
      "\u001b[1m47/47\u001b[0m \u001b[32m━━━━━━━━━━━━━━━━━━━━\u001b[0m\u001b[37m\u001b[0m \u001b[1m0s\u001b[0m 1ms/step - loss: 286848.6875 - rmse: 666926.0625\n",
      "Epoch 24/30\n",
      "\u001b[1m47/47\u001b[0m \u001b[32m━━━━━━━━━━━━━━━━━━━━\u001b[0m\u001b[37m\u001b[0m \u001b[1m0s\u001b[0m 1ms/step - loss: 279453.4062 - rmse: 650024.2500\n",
      "Epoch 25/30\n",
      "\u001b[1m47/47\u001b[0m \u001b[32m━━━━━━━━━━━━━━━━━━━━\u001b[0m\u001b[37m\u001b[0m \u001b[1m0s\u001b[0m 1ms/step - loss: 273420.3125 - rmse: 635477.2500\n",
      "Epoch 26/30\n",
      "\u001b[1m47/47\u001b[0m \u001b[32m━━━━━━━━━━━━━━━━━━━━\u001b[0m\u001b[37m\u001b[0m \u001b[1m0s\u001b[0m 1ms/step - loss: 266941.1562 - rmse: 628716.4375\n",
      "Epoch 27/30\n",
      "\u001b[1m47/47\u001b[0m \u001b[32m━━━━━━━━━━━━━━━━━━━━\u001b[0m\u001b[37m\u001b[0m \u001b[1m0s\u001b[0m 1ms/step - loss: 264913.4062 - rmse: 625543.6250\n",
      "Epoch 28/30\n",
      "\u001b[1m47/47\u001b[0m \u001b[32m━━━━━━━━━━━━━━━━━━━━\u001b[0m\u001b[37m\u001b[0m \u001b[1m0s\u001b[0m 1ms/step - loss: 261278.2969 - rmse: 621135.9375\n",
      "Epoch 29/30\n",
      "\u001b[1m47/47\u001b[0m \u001b[32m━━━━━━━━━━━━━━━━━━━━\u001b[0m\u001b[37m\u001b[0m \u001b[1m0s\u001b[0m 1ms/step - loss: 259127.4062 - rmse: 618584.8125\n",
      "Epoch 30/30\n",
      "\u001b[1m47/47\u001b[0m \u001b[32m━━━━━━━━━━━━━━━━━━━━\u001b[0m\u001b[37m\u001b[0m \u001b[1m0s\u001b[0m 1ms/step - loss: 257316.4844 - rmse: 612194.4375\n"
     ]
    },
    {
     "data": {
      "text/plain": [
       "<keras.src.callbacks.history.History at 0x1d6906dc1a0>"
      ]
     },
     "execution_count": 90,
     "metadata": {},
     "output_type": "execute_result"
    }
   ],
   "source": [
    "tf.random.set_seed(42)\n",
    "\n",
    "model = Sequential([\n",
    "    Dense(256, activation='relu'),\n",
    "    Dense(256, activation='relu'),\n",
    "    Dense(128, activation='relu'),\n",
    "    Dense(128, activation='relu'),\n",
    "    Dense(1)\n",
    "])\n",
    "\n",
    "model.compile(\n",
    "    loss='mean_absolute_error',\n",
    "    optimizer=Adam(),\n",
    "    metrics=[rmse]\n",
    ")\n",
    "\n",
    "model.fit(X_train, y_train, epochs=30)"
   ]
  },
  {
   "cell_type": "code",
   "execution_count": 91,
   "metadata": {},
   "outputs": [
    {
     "name": "stdout",
     "output_type": "stream",
     "text": [
      "\u001b[1m12/12\u001b[0m \u001b[32m━━━━━━━━━━━━━━━━━━━━\u001b[0m\u001b[37m\u001b[0m \u001b[1m0s\u001b[0m 4ms/step \n"
     ]
    }
   ],
   "source": [
    "preds2 = model.predict(X_test)"
   ]
  },
  {
   "cell_type": "code",
   "execution_count": 92,
   "metadata": {},
   "outputs": [
    {
     "name": "stdout",
     "output_type": "stream",
     "text": [
      "RMSE: 814877.04\n",
      "R-squared: 0.85\n"
     ]
    }
   ],
   "source": [
    "rmse2 = mean_squared_error(y_test, preds, squared=False)\n",
    "r2 = r2_score(y_test, preds2)\n",
    "\n",
    "print(f\"RMSE: {rmse2:.2f}\")\n",
    "print(f\"R-squared: {r2:.2f}\")"
   ]
  },
  {
   "cell_type": "code",
   "execution_count": 94,
   "metadata": {},
   "outputs": [
    {
     "data": {
      "image/png": "[encoded data removed]",
      "text/plain": [
       "<Figure size 1500x1000 with 1 Axes>"
      ]
     },
     "metadata": {},
     "output_type": "display_data"
    }
   ],
   "source": [
    "plt.figure(figsize=(15,10))\n",
    "plt.scatter(y_test, y_test, color=\"green\")\n",
    "plt.scatter(y_test, preds2, color=\"blue\")\n",
    "plt.legend(labels=['Actual', 'Predicted'])\n",
    "plt.xlabel('Actual Price')\n",
    "plt.ylabel('Predicted Price')\n",
    "plt.title(\"Neural Network - Actual vs Predict Values\")\n",
    "plt.show()"
   ]
  }
 ],
 "metadata": {
  "kernelspec": {
   "display_name": "Python 3",
   "language": "python",
   "name": "python3"
  },
  "language_info": {
   "codemirror_mode": {
    "name": "ipython",
    "version": 3
   },
   "file_extension": ".py",
   "mimetype": "text/x-python",
   "name": "python",
   "nbconvert_exporter": "python",
   "pygments_lexer": "ipython3",
   "version": "3.12.0"
  }
 },
 "nbformat": 4,
 "nbformat_minor": 2
}
